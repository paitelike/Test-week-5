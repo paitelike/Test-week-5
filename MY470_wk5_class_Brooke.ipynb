{
 "cells": [
  {
   "cell_type": "markdown",
   "metadata": {
    "slideshow": {
     "slide_type": "slide"
    }
   },
   "source": [
    "### MY470 Computer Programming\n",
    "# Programming in Teams\n",
    "### Week 5 Lab"
   ]
  },
  {
   "cell_type": "markdown",
   "metadata": {
    "slideshow": {
     "slide_type": "slide"
    }
   },
   "source": [
    "## Class on Classes\n",
    "\n",
    "As we have covered, python is an object oriented programming language. Almost everything in python is an object, with its associated properties and methods.\n",
    "\n",
    "A Class is like an object constructor, or a \"blueprint\" for creating objects.\n",
    "\n",
    "When we are working out what we want our class to look like (strcuture, functions, modulalrity etc.), we can use the ```pass``` statement. For instance;\n",
    "\n",
    "```python\n",
    "\n",
    "class MyClass(object):\n",
    "    \"\"\"\n",
    "    DocString.\n",
    "    \"\"\"\n",
    "    \n",
    "    def __init__(self, var_a):\n",
    "        var_a = var_a\n",
    "        var_b = var_a ** 2\n",
    "        pass\n",
    "    \n",
    "    def my_funtion(self, var_a):\n",
    "        pass\n",
    "    \n",
    "    def second_function(self, var_b):\n",
    "        pass\n",
    "\n",
    "```\n",
    "\n",
    "While it might not be syntactically incorrect to use the empty parentheses in a class definition, parentheses after a class definition are used to indicate inheritance. In addition, we put ```object``` in the brackets to ensure compatibility with python 2.x."
   ]
  },
  {
   "cell_type": "markdown",
   "metadata": {},
   "source": [
    "## The ```self``` Parameter\n",
    "\n",
    "The ```self``` parameter is a reference to the current instance of the class, and is used to access variables that belongs to the class.\n",
    "\n",
    "It does not have to be named ```self``` , you can call it whatever you like, but it has to be the first parameter (in the brackets) of any function in the class.\n",
    "\n",
    "```self``` is a parameter in function and the user can use a different parameter name in place of it. Although it is advisable to use \"self\" because it increases the readability of code.\n",
    "\n",
    "\n"
   ]
  },
  {
   "cell_type": "code",
   "execution_count": 1,
   "metadata": {
    "slideshow": {
     "slide_type": "-"
    }
   },
   "outputs": [],
   "source": [
    "# 1. Starting a Class\n",
    "\n",
    "# When we run this cell we don't get a error.\n",
    "\n",
    "class MyClass(object):\n",
    "    \"\"\"DocString to define class\"\"\" \n",
    "    # DocString, not comments. DocStrings are for users, and will travel with the class.\n",
    "    # Information about the implemention (not abstraction) giving concrete meaning to the abstract methods.   \n",
    "    \n",
    "    def __init__(self, list_nums):\n",
    "        # When working out the structure we can originally just leave \"pass\".\n",
    "        pass\n"
   ]
  },
  {
   "cell_type": "markdown",
   "metadata": {
    "slideshow": {
     "slide_type": "slide"
    }
   },
   "source": [
    "## Definitions\n",
    "\n",
    "### Class\n",
    "A blueprint for a object. This defines a set of **attributes** that will characterise any **object** instantiated from this class. Below is an example.\n",
    "\n",
    "```python\n",
    "class StudentRegister(object):\n",
    "    \"\"\"\n",
    "    Students on the MY470 register.\n",
    "    \"\"\"\n",
    "    \n",
    "    def __init__(self, name, group):\n",
    "        self.name = name\n",
    "        self.group = group\n",
    "\n",
    "    def student_greeting(self):\n",
    "        \"\"\"\n",
    "        Prints greeting to student.\n",
    "        \"\"\"\n",
    "        print(\"Hello my name is \" + self.name)\n",
    "```\n",
    "\n",
    "### Object\n",
    "A **Instance** of a class. This is the \"realised\" (implemented) version of the class.\n",
    "\n",
    "```python\n",
    "an_instance_student = StudentRegister\n",
    "\n",
    "```\n",
    "\n",
    "### Method\n",
    "Objects can also contain methods. Methods in objects are functions that belong to the object. We used string *methods* in our first class, such as ```upper()```, ```capitalize()```, and ```isalpha()```.\n",
    "\n",
    "```python\n",
    "print(an_instance_student.student_greeting)\n",
    "```\n",
    "Remember that methods are associated with the objects of the class they belong to. Functions are not associated with any object. We can invoke a function just by its name. Functions operate on the data you pass to them as arguments.\n",
    "\n",
    "*Functions are defined outside of classes, while Methods are defined inside of and part of classes.*"
   ]
  },
  {
   "cell_type": "code",
   "execution_count": 1,
   "metadata": {
    "slideshow": {
     "slide_type": "slide"
    }
   },
   "outputs": [],
   "source": [
    "# 2. Methods and Special Methods\n",
    "\n",
    "class MyClass(object):\n",
    "    \"\"\"DocString to define class\"\"\" \n",
    "    # DocString, not comments. DocStrings are for users, and will travel with the class.\n",
    "    # Information about the implemention (not abstraction) giving concrete meaning to the abstract methods.   \n",
    "    \n",
    "    # Special Method: Always FIRST\n",
    "    def __init__(self, list_nums): \n",
    "        \"\"\"Creat a new instance here\"\"\"\n",
    "        # \"__\" is two underscores. \n",
    "        # A constructor method is a special function that creates an instance of the class.\n",
    "        # Any initalising you would like to do with your class object.\n",
    "        # Data attributes are defined here with the \"self.\"\" prefix\n",
    "        self.vals = None\n",
    "        self.list_nums = list_nums\n",
    "        self.combined_nums = [i*vals for i in list_nums]\n",
    "            \n",
    "    def class_methods(self, arg):\n",
    "        # Some methods that do somethings ...\n",
    "        # Self is used to represent the instance of the class. \n",
    "        pass\n",
    "    \n",
    "    # Special Method: Always LAST\n",
    "    def __str__(self): \n",
    "        \"\"\"Returns a string representation of self\"\"\"\n",
    "        # Define here how you want the Class Instance to be returned (when str()\n",
    "        # or print() is used on a instance). \n",
    "        # Otherwise, you will get the location (where the Class Instance is stored).\n",
    "        return self.vals.sort()\n"
   ]
  },
  {
   "cell_type": "code",
   "execution_count": 2,
   "metadata": {},
   "outputs": [
    {
     "ename": "NameError",
     "evalue": "name 'vals' is not defined",
     "output_type": "error",
     "traceback": [
      "\u001b[0;31m---------------------------------------------------------------------------\u001b[0m",
      "\u001b[0;31mNameError\u001b[0m                                 Traceback (most recent call last)",
      "\u001b[0;32m<ipython-input-2-df02789456c0>\u001b[0m in \u001b[0;36m<module>\u001b[0;34m\u001b[0m\n\u001b[0;32m----> 1\u001b[0;31m \u001b[0mtheclass\u001b[0m \u001b[0;34m=\u001b[0m \u001b[0mMyClass\u001b[0m\u001b[0;34m(\u001b[0m\u001b[0;34m[\u001b[0m\u001b[0;36m4\u001b[0m\u001b[0;34m,\u001b[0m\u001b[0;36m5\u001b[0m\u001b[0;34m,\u001b[0m\u001b[0;36m3\u001b[0m\u001b[0;34m,\u001b[0m\u001b[0;36m2\u001b[0m\u001b[0;34m,\u001b[0m\u001b[0;36m1\u001b[0m\u001b[0;34m]\u001b[0m\u001b[0;34m)\u001b[0m\u001b[0;34m\u001b[0m\u001b[0;34m\u001b[0m\u001b[0m\n\u001b[0m\u001b[1;32m      2\u001b[0m \u001b[0mprint\u001b[0m\u001b[0;34m(\u001b[0m\u001b[0mtheclass\u001b[0m\u001b[0;34m)\u001b[0m\u001b[0;34m\u001b[0m\u001b[0;34m\u001b[0m\u001b[0m\n",
      "\u001b[0;32m<ipython-input-1-254537a2ec1f>\u001b[0m in \u001b[0;36m__init__\u001b[0;34m(self, list_nums)\u001b[0m\n\u001b[1;32m     15\u001b[0m         \u001b[0mself\u001b[0m\u001b[0;34m.\u001b[0m\u001b[0mvals\u001b[0m \u001b[0;34m=\u001b[0m \u001b[0;32mNone\u001b[0m\u001b[0;34m\u001b[0m\u001b[0;34m\u001b[0m\u001b[0m\n\u001b[1;32m     16\u001b[0m         \u001b[0mself\u001b[0m\u001b[0;34m.\u001b[0m\u001b[0mlist_nums\u001b[0m \u001b[0;34m=\u001b[0m \u001b[0mlist_nums\u001b[0m\u001b[0;34m\u001b[0m\u001b[0;34m\u001b[0m\u001b[0m\n\u001b[0;32m---> 17\u001b[0;31m         \u001b[0mself\u001b[0m\u001b[0;34m.\u001b[0m\u001b[0mcombined_nums\u001b[0m \u001b[0;34m=\u001b[0m \u001b[0;34m[\u001b[0m\u001b[0mi\u001b[0m\u001b[0;34m*\u001b[0m\u001b[0mvals\u001b[0m \u001b[0;32mfor\u001b[0m \u001b[0mi\u001b[0m \u001b[0;32min\u001b[0m \u001b[0mlist_nums\u001b[0m\u001b[0;34m]\u001b[0m\u001b[0;34m\u001b[0m\u001b[0;34m\u001b[0m\u001b[0m\n\u001b[0m\u001b[1;32m     18\u001b[0m \u001b[0;34m\u001b[0m\u001b[0m\n\u001b[1;32m     19\u001b[0m     \u001b[0;32mdef\u001b[0m \u001b[0mclass_methods\u001b[0m\u001b[0;34m(\u001b[0m\u001b[0mself\u001b[0m\u001b[0;34m,\u001b[0m \u001b[0marg\u001b[0m\u001b[0;34m)\u001b[0m\u001b[0;34m:\u001b[0m\u001b[0;34m\u001b[0m\u001b[0;34m\u001b[0m\u001b[0m\n",
      "\u001b[0;32m<ipython-input-1-254537a2ec1f>\u001b[0m in \u001b[0;36m<listcomp>\u001b[0;34m(.0)\u001b[0m\n\u001b[1;32m     15\u001b[0m         \u001b[0mself\u001b[0m\u001b[0;34m.\u001b[0m\u001b[0mvals\u001b[0m \u001b[0;34m=\u001b[0m \u001b[0;32mNone\u001b[0m\u001b[0;34m\u001b[0m\u001b[0;34m\u001b[0m\u001b[0m\n\u001b[1;32m     16\u001b[0m         \u001b[0mself\u001b[0m\u001b[0;34m.\u001b[0m\u001b[0mlist_nums\u001b[0m \u001b[0;34m=\u001b[0m \u001b[0mlist_nums\u001b[0m\u001b[0;34m\u001b[0m\u001b[0;34m\u001b[0m\u001b[0m\n\u001b[0;32m---> 17\u001b[0;31m         \u001b[0mself\u001b[0m\u001b[0;34m.\u001b[0m\u001b[0mcombined_nums\u001b[0m \u001b[0;34m=\u001b[0m \u001b[0;34m[\u001b[0m\u001b[0mi\u001b[0m\u001b[0;34m*\u001b[0m\u001b[0mvals\u001b[0m \u001b[0;32mfor\u001b[0m \u001b[0mi\u001b[0m \u001b[0;32min\u001b[0m \u001b[0mlist_nums\u001b[0m\u001b[0;34m]\u001b[0m\u001b[0;34m\u001b[0m\u001b[0;34m\u001b[0m\u001b[0m\n\u001b[0m\u001b[1;32m     18\u001b[0m \u001b[0;34m\u001b[0m\u001b[0m\n\u001b[1;32m     19\u001b[0m     \u001b[0;32mdef\u001b[0m \u001b[0mclass_methods\u001b[0m\u001b[0;34m(\u001b[0m\u001b[0mself\u001b[0m\u001b[0;34m,\u001b[0m \u001b[0marg\u001b[0m\u001b[0;34m)\u001b[0m\u001b[0;34m:\u001b[0m\u001b[0;34m\u001b[0m\u001b[0;34m\u001b[0m\u001b[0m\n",
      "\u001b[0;31mNameError\u001b[0m: name 'vals' is not defined"
     ]
    }
   ],
   "source": [
    "theclass = MyClass([4,5,3,2,1])\n",
    "print(theclass)"
   ]
  },
  {
   "cell_type": "code",
   "execution_count": 3,
   "metadata": {
    "slideshow": {
     "slide_type": "slide"
    }
   },
   "outputs": [],
   "source": [
    "# 3. Example Class (Guttag, 2013)\n",
    "\n",
    "class IntList(object):\n",
    "    \"\"\"A IntList is a list of integers\"\"\"\n",
    "    # Infomation about the implementation (not the abstraction)\n",
    "    # The value of the list is represented by a list of ints. self.vals.\n",
    "    \n",
    "    def __init__(self):\n",
    "        \"\"\"Create a empty list of integers\"\"\" \n",
    "        self.vals = []\n",
    "        \n",
    "    def insert(self, e):\n",
    "        \"\"\"Assumes that e is a int and inserts e into self\"\"\"\n",
    "        if e not in self.vals:\n",
    "            self.vals.append(e)\n",
    "            \n",
    "    def member(self, e):\n",
    "        \"\"\"Assumes e is a int and returns True if e is in self, otherwise False\"\"\"\n",
    "        return e in self.vals  \n",
    "    \n",
    "    def remove(self, e):\n",
    "        \"\"\"Assumes e is an int and removes e from self\n",
    "        Raises a ValueError if e is not in self\"\"\"\n",
    "        try:\n",
    "            self.vals.remove(e)\n",
    "        except:\n",
    "            raise ValueError(str(e) + \" Not found\")\n",
    "            \n",
    "    def getMembers(self):\n",
    "        \"\"\"Returns a list containing the elems of self.\n",
    "        Nothing can be assumed about the order of elements\"\"\"\n",
    "        return list(self.vals)\n",
    "            \n",
    "    def __str__(self):\n",
    "        \"\"\"Returns a string representation of self\"\"\"\n",
    "        return str(self.vals)"
   ]
  },
  {
   "cell_type": "markdown",
   "metadata": {},
   "source": [
    "### Statements\n",
    "\n",
    "The ```try``` block lets you test a block of code for errors.\n",
    "\n",
    "\n",
    "The ```except``` block lets you handle the error. If the ```try``` block causes any error the except statement will be triggered. You should/can all catch specific errors using \"except\", such as ```except TypeError:```. Like with ```except```, you refer a specific as possible when raising errors.\n",
    "\n",
    "```python\n",
    "raise ValueError(\"A very specific bad thing happened\")\n",
    "```\n",
    "\n",
    "[You should use the morst specific Exception constructor that semantically fits your issue.](https://docs.python.org/3/library/exceptions.html#exception-hierarchy)\n",
    "\n"
   ]
  },
  {
   "cell_type": "code",
   "execution_count": 4,
   "metadata": {
    "slideshow": {
     "slide_type": "slide"
    }
   },
   "outputs": [
    {
     "name": "stdout",
     "output_type": "stream",
     "text": [
      "Help on function member in module __main__:\n",
      "\n",
      "member(self, e)\n",
      "    Assumes e is a int and returns True if e is in self, otherwise False\n",
      "\n",
      "None\n",
      "Is 2 a member: True\n",
      "[2, 0, 1, 3, 4, 5, 6, 7, 8, 9, 10]\n"
     ]
    }
   ],
   "source": [
    "# 4. Creating a Instance of IntList\n",
    "\n",
    "# s is a instance of IntList\n",
    "s = IntList()\n",
    "# insert() is a method we defined for the IntList class (above)\n",
    "s.insert(2)\n",
    "\n",
    "# What does member() do? We can use help.\n",
    "print(help(IntList.member))\n",
    "\n",
    "# member() is also a method of IntList\n",
    "print(\"Is 2 a member:\", s.member(2))\n",
    "\n",
    "for i in range(0,11):\n",
    "    s.insert(i)\n",
    "    \n",
    "print(s)"
   ]
  },
  {
   "cell_type": "markdown",
   "metadata": {
    "slideshow": {
     "slide_type": "slide"
    }
   },
   "source": [
    "## Recap: Useful Concepts\n",
    "\n",
    "### Iterables\n",
    "When you create a list, you can read its items one by one. Reading its items one by one is called iteration.\n",
    "\n",
    "``` python\n",
    "mylist = [x*x for x in range(3)]\n",
    "for i in mylist:\n",
    "    print(i)\n",
    "```\n",
    "```\n",
    "# Output\n",
    "> 1\n",
    "> 2\n",
    "> 3\n",
    "```\n",
    "\n",
    "mylist is an iterable. When you use a list comprehension, you create a list, and so an iterable.\n",
    "\n",
    "\n",
    "These iterables are handy because you can read them as much as you wish, but you store all the values in memory and this is not always what you want when you have a lot of values.\n",
    "\n",
    "Everything you can use ```\"for... in...\"``` on is an iterable; lists, strings, files..."
   ]
  },
  {
   "cell_type": "markdown",
   "metadata": {
    "slideshow": {
     "slide_type": "slide"
    }
   },
   "source": [
    "## Recap: Useful Concepts\n",
    "[Source](https://stackoverflow.com/questions/231767/what-does-the-yield-keyword-do)\n",
    "\n",
    "### Generators\n",
    "Generator functions allow you to declare a function that behaves like an iterator, i.e. it can be used in a for loop.\n",
    "\n",
    "Generators are iterators, a kind of iterable **you can only iterate over once**. Generators do not store all the values in memory, they generate the values on the fly (i.e. as they go):\n",
    "\n",
    "``` python\n",
    "mygenerator = (x*x for x in range(3))\n",
    "for i in mygenerator:\n",
    "    print(i)\n",
    "```\n",
    "```\n",
    "# Ouput\n",
    "> 0\n",
    "> 1\n",
    "> 4\n",
    "```\n",
    "\n",
    "It is just the same except you used ```()``` instead of ```[]```. BUT, you cannot perform ```for i in mygenerator``` a second time since generators can only be used once: they calculate 0, then forget about it and calculate 1, and end calculating 4, one by one.\n",
    "\n"
   ]
  },
  {
   "cell_type": "code",
   "execution_count": 5,
   "metadata": {},
   "outputs": [
    {
     "name": "stdout",
     "output_type": "stream",
     "text": [
      "0\n",
      "1\n",
      "4\n",
      "<generator object <genexpr> at 0x0000015256C0AF20>\n"
     ]
    }
   ],
   "source": [
    "mygenerator = (x*x for x in range(3))\n",
    "for i in mygenerator:\n",
    "    print(i)\n",
    "\n",
    "# Can't print twice\n",
    "for i in mygenerator:\n",
    "    print(i)\n",
    "    \n",
    "# Can't print directly\n",
    "print(mygenerator)"
   ]
  },
  {
   "cell_type": "markdown",
   "metadata": {
    "slideshow": {
     "slide_type": "slide"
    }
   },
   "source": [
    "### Yield\n",
    "\n",
    "```yield``` is a keyword that is used like ```return```, except the function will return a generator.\n",
    "\n",
    "``` python\n",
    "def createGenerator():\n",
    "    mylist = range(3)\n",
    "    for i in mylist:\n",
    "        yield i*i\n",
    "\n",
    "mygenerator = createGenerator() # create a generator\n",
    "print(mygenerator) # mygenerator is an object!\n",
    "```\n",
    "```\n",
    "# Output\n",
    "<generator object createGenerator at 0xb7555c34>\n",
    "```\n",
    "\n",
    "``` python\n",
    "for i in mygenerator:\n",
    "    print(i)\n",
    "```\n",
    "```\n",
    "# Output\n",
    "> 0\n",
    "> 1\n",
    "> 4\n",
    "```\n",
    "\n",
    "when you call the function, the code you have written in the function body does not run. The function only returns the generator object."
   ]
  },
  {
   "cell_type": "markdown",
   "metadata": {
    "slideshow": {
     "slide_type": "slide"
    }
   },
   "source": [
    "**Then, your code will continue from where it left off each time ```for``` uses the generator.**\n",
    "\n",
    "Another example might be:\n",
    "\n",
    "``` python\n",
    "def my_gen():\n",
    "    n = 1\n",
    "    print('This is printed first')\n",
    "    # Generator function contains yield statements\n",
    "    yield n\n",
    "\n",
    "    n += 1\n",
    "    print('This is printed second')\n",
    "    yield n\n",
    "\n",
    "    n += 1\n",
    "    print('This is printed at last')\n",
    "    yield n\n",
    "```\n",
    "Running the function would look like:\n",
    "\n",
    "``` python\n",
    "# It returns an object but does not start execution immediately.\n",
    "a = my_gen()\n",
    "\n",
    "# We can iterate through the items using next().\n",
    "next(a)\n",
    "> This is printed first\n",
    "> 1\n",
    "\n",
    "# Once the function yields, the function is paused and the control is transferred to the caller. \n",
    "\n",
    "# Local variables and theirs states are remembered between successive calls. Remember, to \"call\" means to make a reference in your code to a function that is written elsewhere.\n",
    "next(a)\n",
    "> This is printed second\n",
    "> 2\n",
    "\n",
    "next(a)\n",
    "> This is printed at last\n",
    "> 3\n",
    "\n",
    "# Finally, when the function terminates, StopIteration is raised automatically on further calls.\n",
    "# Generators can only be called once.\n",
    "next(a)\n",
    "\n",
    "Traceback (most recent call last):\n",
    "...\n",
    "StopIteration\n",
    "```"
   ]
  },
  {
   "cell_type": "code",
   "execution_count": 9,
   "metadata": {},
   "outputs": [],
   "source": [
    "# An Example:\n",
    "\n",
    "def student_counting():\n",
    "    n = 18\n",
    "    print('This is printed first')\n",
    "    # Generator function contains yield statements\n",
    "    yield n\n",
    "\n",
    "    n += 1\n",
    "    print('This is printed second')\n",
    "    yield n\n",
    "\n",
    "    n += 2\n",
    "    print('This is printed at last')\n",
    "    yield n\n",
    "\n",
    "# Generator (NOTE: that without the brackets\n",
    "# you are assigning the function)\n",
    "student = student_counting()"
   ]
  },
  {
   "cell_type": "code",
   "execution_count": 10,
   "metadata": {},
   "outputs": [
    {
     "name": "stdout",
     "output_type": "stream",
     "text": [
      "<generator object student_counting at 0x7ff9682882e0>\n",
      "This is printed first\n",
      "18\n",
      "This is printed second\n",
      "19\n",
      "This is printed at last\n",
      "21\n"
     ]
    },
    {
     "ename": "StopIteration",
     "evalue": "",
     "output_type": "error",
     "traceback": [
      "\u001b[0;31m---------------------------------------------------------------------------\u001b[0m",
      "\u001b[0;31mStopIteration\u001b[0m                             Traceback (most recent call last)",
      "\u001b[0;32m<ipython-input-10-70eae6f64ec6>\u001b[0m in \u001b[0;36m<module>\u001b[0;34m\u001b[0m\n\u001b[1;32m     12\u001b[0m \u001b[0;34m\u001b[0m\u001b[0m\n\u001b[1;32m     13\u001b[0m \u001b[0;31m# Fourth yield\u001b[0m\u001b[0;34m\u001b[0m\u001b[0;34m\u001b[0m\u001b[0;34m\u001b[0m\u001b[0m\n\u001b[0;32m---> 14\u001b[0;31m \u001b[0mprint\u001b[0m\u001b[0;34m(\u001b[0m\u001b[0mnext\u001b[0m\u001b[0;34m(\u001b[0m\u001b[0mstudent\u001b[0m\u001b[0;34m)\u001b[0m\u001b[0;34m)\u001b[0m\u001b[0;34m\u001b[0m\u001b[0;34m\u001b[0m\u001b[0m\n\u001b[0m",
      "\u001b[0;31mStopIteration\u001b[0m: "
     ]
    }
   ],
   "source": [
    "# Can't print directly\n",
    "print(student)\n",
    "\n",
    "# First yield\n",
    "print(next(student))\n",
    "\n",
    "# Second yield\n",
    "print(next(student))\n",
    "\n",
    "# Third yield\n",
    "print(next(student))\n",
    "\n",
    "# Fourth yield\n",
    "print(next(student))"
   ]
  },
  {
   "cell_type": "markdown",
   "metadata": {
    "slideshow": {
     "slide_type": "slide"
    }
   },
   "source": [
    "\n",
    "So ...\n",
    "- The first time the ```for``` calls the generator object created from your function, it will run the code in your function from the beginning until it hits ```yield```, then it'll return the first value of the loop. \n",
    "- Then, each subsequent call will run another iteration of the loop you have written in the function and return the next value. - This will continue until the generator is considered empty, which happens when the function runs without hitting ```yield```. \n",
    "- That can be because the loop has come to an end, or because you no longer satisfy an ```if / else```."
   ]
  },
  {
   "cell_type": "markdown",
   "metadata": {
    "slideshow": {
     "slide_type": "slide"
    }
   },
   "source": [
    "## GitHub as a Collaboration Tool\n",
    "\n",
    "1. Clone repository locally\n",
    "2. Make changes in cloned repository\n",
    "3. Upload new file, **creating a new branch and starting a pull request**"
   ]
  },
  {
   "cell_type": "markdown",
   "metadata": {
    "slideshow": {
     "slide_type": "slide"
    }
   },
   "source": [
    "## Suggested Workflow for Prorgamming in Teams\n",
    "\n",
    "* Use `pass` to outline structure of program\n",
    "* Write class/function specifications\n",
    "* Split the work\n",
    "* Fill in the details\n",
    "* Review each other's code to identify and fix potential problems\n",
    "* Merge\n",
    "* Identify bugs and problems\n",
    "* Repeat 3-7 as necessary"
   ]
  },
  {
   "attachments": {
    "Teams_MY470.PNG": {
     "image/png": "[encoded data removed]"
    }
   },
   "cell_type": "markdown",
   "metadata": {},
   "source": [
    "### Find your Team\n",
    "\n",
    "You can find your team by going to the [MY470 GitHub organisation](https://github.com/lse-my470). You then click \"Teams\" at the top of the page and you will be see your teams repo and can view the other members.\n",
    "\n",
    "![Teams_MY470.PNG](attachment:Teams_MY470.PNG)"
   ]
  },
  {
   "cell_type": "markdown",
   "metadata": {
    "slideshow": {
     "slide_type": "slide"
    }
   },
   "source": [
    "## Create a New Branch When Uploading Changed File\n",
    "\n",
    "Remember that you can just use the web interface for simplicity in this exercise.\n",
    "\n",
    "![Create a new branch](figs/branching.png \"Create a new branch\")\n",
    "\n",
    "### Note that you select \"create a branch\" and give it a suitable name."
   ]
  },
  {
   "cell_type": "markdown",
   "metadata": {
    "slideshow": {
     "slide_type": "slide"
    }
   },
   "source": [
    "## Open a Pull Request to Get Feedback (Automatically Directed There)\n",
    "\n",
    "![Open a pull request](figs/pull_request.png \"Open a pull request\")"
   ]
  },
  {
   "cell_type": "markdown",
   "metadata": {
    "slideshow": {
     "slide_type": "slide"
    }
   },
   "source": [
    "## You (and Later Your Partner) Can View Your Changes Highlighted\n",
    "\n",
    "![View changes](figs/changes.png \"View changes\")"
   ]
  },
  {
   "cell_type": "markdown",
   "metadata": {
    "slideshow": {
     "slide_type": "slide"
    }
   },
   "source": [
    "## Wait for Comments from Partner Before Merging\n",
    "\n",
    "![Merge after comments](figs/merge.png \"Merge after comments\")"
   ]
  },
  {
   "cell_type": "markdown",
   "metadata": {
    "slideshow": {
     "slide_type": "slide"
    }
   },
   "source": [
    "## Confirm Merge\n",
    "\n",
    "![Confirm merge](figs/confirm_merge.png \"Confirm merge\")"
   ]
  },
  {
   "cell_type": "markdown",
   "metadata": {
    "slideshow": {
     "slide_type": "slide"
    }
   },
   "source": [
    "## Open Issues to Discuss Problems and Ask Partner for Help\n",
    "\n",
    "![Open a new issue](figs/open_issue.png \"Open a new issue\")"
   ]
  },
  {
   "cell_type": "markdown",
   "metadata": {
    "slideshow": {
     "slide_type": "slide"
    }
   },
   "source": [
    "## Open Issues to Discuss Problems and Ask Partner for Help\n",
    "\n",
    "![Submit new issue](figs/submit_issue.png \"Submit new issue\")"
   ]
  },
  {
   "cell_type": "markdown",
   "metadata": {
    "slideshow": {
     "slide_type": "slide"
    }
   },
   "source": [
    "## Discuss\n",
    "\n",
    "![Discuss](figs/discuss.png \"Discuss\")"
   ]
  },
  {
   "cell_type": "code",
   "execution_count": null,
   "metadata": {
    "slideshow": {
     "slide_type": "slide"
    }
   },
   "outputs": [],
   "source": [
    "# Exercise 1: Work with the person next to you to design \n",
    "# classes to manage the products, customers, and purchase \n",
    "# orders for an online book store such as amazon.com. \n",
    "# Outline the data attributes and useful methods for \n",
    "# each class. You can discuss and create the outline together. \n",
    "\n"
   ]
  },
  {
   "cell_type": "code",
   "execution_count": null,
   "metadata": {
    "slideshow": {
     "slide_type": "-"
    }
   },
   "outputs": [],
   "source": [
    "# Exercise 2: Create a new repository in your account and upload \n",
    "# the class hierarchy you created. Practice cloning locally, \n",
    "# making changes, and uploading the changed file to your remote \n",
    "# repository by creating a branch and opening a pull request. \n",
    "# (Note that in order for others to be able to upload files \n",
    "# to your repository, you need to grant them push access.)\n",
    "\n"
   ]
  },
  {
   "cell_type": "code",
   "execution_count": null,
   "metadata": {
    "slideshow": {
     "slide_type": "-"
    }
   },
   "outputs": [],
   "source": [
    "# Exercise 3: Open a new issue in your partner's repository. \n",
    "# (Note that you don't need push access to open issues.)\n",
    "\n"
   ]
  }
 ],
 "metadata": {
  "celltoolbar": "Slideshow",
  "kernelspec": {
   "display_name": "Python 3",
   "language": "python",
   "name": "python3"
  },
  "language_info": {
   "codemirror_mode": {
    "name": "ipython",
    "version": 3
   },
   "file_extension": ".py",
   "mimetype": "text/x-python",
   "name": "python",
   "nbconvert_exporter": "python",
   "pygments_lexer": "ipython3",
   "version": "3.8.3"
  }
 },
 "nbformat": 4,
 "nbformat_minor": 2
}
